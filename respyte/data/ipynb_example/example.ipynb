{
 "metadata": {
  "language_info": {
   "codemirror_mode": {
    "name": "ipython",
    "version": 3
   },
   "file_extension": ".py",
   "mimetype": "text/x-python",
   "name": "python",
   "nbconvert_exporter": "python",
   "pygments_lexer": "ipython3",
   "version": "3.7.9-final"
  },
  "orig_nbformat": 2,
  "kernelspec": {
   "name": "python3",
   "display_name": "Python 3.7.9 64-bit ('respyte-beta': conda)",
   "metadata": {
    "interpreter": {
     "hash": "7bb323ce5454dd965c0fd9149b3cdd1d10db076fbe0b425a1434c990872e9fb4"
    }
   }
  }
 },
 "nbformat": 4,
 "nbformat_minor": 2,
 "cells": [
  {
   "cell_type": "markdown",
   "metadata": {},
   "source": [
    "example of how to  use respyte as a python module!"
   ]
  },
  {
   "cell_type": "code",
   "execution_count": 1,
   "metadata": {},
   "outputs": [],
   "source": [
    "from respyte.molecules import respyte_molecule, respyte_molecules\n",
    "from respyte.procedure import resp"
   ]
  },
  {
   "cell_type": "code",
   "execution_count": 2,
   "metadata": {},
   "outputs": [],
   "source": [
    "# generate molecule object\n",
    "molecule = respyte_molecule(molecule_name= 'meoh', coord_fnm='test.pdb', espf_fnm='test.espf')\n",
    "molecule.set_net_charge(0)\n",
    "molecule2 = respyte_molecule(molecule_name= 'meoh2', coord_fnm='test.pdb', espf_fnm='test.espf')\n",
    "molecule2.set_net_charge(0)"
   ]
  },
  {
   "cell_type": "code",
   "execution_count": 3,
   "metadata": {
    "tags": []
   },
   "outputs": [],
   "source": [
    "molecules = respyte_molecules()\n",
    "molecules.add_molecule(molecule)\n",
    "molecules.add_molecule(molecule2)"
   ]
  },
  {
   "cell_type": "code",
   "execution_count": 4,
   "metadata": {
    "tags": []
   },
   "outputs": [
    {
     "output_type": "stream",
     "name": "stdout",
     "text": [
      "example 1. analytic solution of single-stg-fit to ESP\n",
      "\n",
      "\u001b[1mRunning single-stage fit\u001b[0m\n",
      " Iter 0. norm(dq): 1.69e+00 X2: 2.37e-01\n",
      " Iter 1. norm(dq): 6.12e-02 X2: 6.35e-03\n",
      " Iter 2. norm(dq): 3.31e-03 X2: 6.27e-03\n",
      " Iter 3. norm(dq): 1.43e-05 X2: 6.27e-03\n",
      "\u001b[1m Converged!\u001b[0m\n",
      "mol: meoh, model: point_charge\n",
      "RRMS:    0.1487\n",
      "  elem         x         y         z  equiv(chg)    charge\n",
      "     O    0.0410   -0.7640    0.0000           2   -0.5923\n",
      "     H   -0.8550   -1.0640    0.0000           0    0.3862\n",
      "     C    0.0410    0.6610    0.0000           3    0.0547\n",
      "     H    1.0870    0.9800    0.0000           1    0.0505\n",
      "     H   -0.4050    1.1180    0.8880           1    0.0505\n",
      "     H   -0.4050    1.1180   -0.8880           1    0.0505\n",
      "mol: meoh2, model: point_charge\n",
      "RRMS:    0.1487\n",
      "  elem         x         y         z  equiv(chg)    charge\n",
      "     O    0.0410   -0.7640    0.0000           6   -0.5923\n",
      "     H   -0.8550   -1.0640    0.0000           4    0.3862\n",
      "     C    0.0410    0.6610    0.0000           7    0.0547\n",
      "     H    1.0870    0.9800    0.0000           5    0.0505\n",
      "     H   -0.4050    1.1180    0.8880           5    0.0505\n",
      "     H   -0.4050    1.1180   -0.8880           5    0.0505\n",
      "CPU times: user 1.09 s, sys: 34 ms, total: 1.12 s\n",
      "Wall time: 1.16 s\n"
     ]
    },
    {
     "output_type": "execute_result",
     "data": {
      "text/plain": [
       "(<respyte.objective.respyte_objective at 0xa254efa90>,\n",
       " [['mol: meoh, model: point_charge',\n",
       "   'RRMS:    0.1487',\n",
       "   '  elem         x         y         z  equiv(chg)    charge',\n",
       "   '     O    0.0410   -0.7640    0.0000           2   -0.5923',\n",
       "   '     H   -0.8550   -1.0640    0.0000           0    0.3862',\n",
       "   '     C    0.0410    0.6610    0.0000           3    0.0547',\n",
       "   '     H    1.0870    0.9800    0.0000           1    0.0505',\n",
       "   '     H   -0.4050    1.1180    0.8880           1    0.0505',\n",
       "   '     H   -0.4050    1.1180   -0.8880           1    0.0505'],\n",
       "  ['mol: meoh2, model: point_charge',\n",
       "   'RRMS:    0.1487',\n",
       "   '  elem         x         y         z  equiv(chg)    charge',\n",
       "   '     O    0.0410   -0.7640    0.0000           6   -0.5923',\n",
       "   '     H   -0.8550   -1.0640    0.0000           4    0.3862',\n",
       "   '     C    0.0410    0.6610    0.0000           7    0.0547',\n",
       "   '     H    1.0870    0.9800    0.0000           5    0.0505',\n",
       "   '     H   -0.4050    1.1180    0.8880           5    0.0505',\n",
       "   '     H   -0.4050    1.1180   -0.8880           5    0.0505']],\n",
       " [0.14868840608585715, 0.14868840608585718])"
      ]
     },
     "metadata": {},
     "execution_count": 4
    }
   ],
   "source": [
    "%%time\n",
    "print('example 1. analytic solution of single-stg-fit to ESP\\n')\n",
    "parameter_types = {'charge': 'connectivity'}\n",
    "model_type='point_charge'\n",
    "penalty =  {'ptype': 'L1', 'a': 0.001, 'b': 0.1}\n",
    "resp(molecules, model_type, parameter_types, penalty=penalty, procedure=1)"
   ]
  },
  {
   "cell_type": "code",
   "execution_count": 5,
   "metadata": {},
   "outputs": [
    {
     "output_type": "stream",
     "name": "stdout",
     "text": [
      "example 2. analytic solution of single-stg-fit to EF(electric field)\n",
      "\n",
      "\u001b[1mRunning single-stage fit\u001b[0m\n",
      " Iter 0. norm(dq): 1.72e+00 X2: 8.36e-02\n",
      " Iter 1. norm(dq): 9.53e-02 X2: 5.67e-03\n",
      " Iter 2. norm(dq): 1.00e-02 X2: 5.48e-03\n",
      " Iter 3. norm(dq): 1.15e-04 X2: 5.48e-03\n",
      " Iter 4. norm(dq): 1.44e-08 X2: 5.48e-03\n",
      "\u001b[1m Converged!\u001b[0m\n",
      "mol: meoh, model: point_charge\n",
      "RRMS:    0.1582\n",
      "  elem         x         y         z  equiv(chg)    charge\n",
      "     O    0.0410   -0.7640    0.0000           2   -0.6345\n",
      "     H   -0.8550   -1.0640    0.0000           0    0.4066\n",
      "     C    0.0410    0.6610    0.0000           3    0.0974\n",
      "     H    1.0870    0.9800    0.0000           1    0.0435\n",
      "     H   -0.4050    1.1180    0.8880           1    0.0435\n",
      "     H   -0.4050    1.1180   -0.8880           1    0.0435\n",
      "mol: meoh2, model: point_charge\n",
      "RRMS:    0.1582\n",
      "  elem         x         y         z  equiv(chg)    charge\n",
      "     O    0.0410   -0.7640    0.0000           6   -0.6345\n",
      "     H   -0.8550   -1.0640    0.0000           4    0.4066\n",
      "     C    0.0410    0.6610    0.0000           7    0.0974\n",
      "     H    1.0870    0.9800    0.0000           5    0.0435\n",
      "     H   -0.4050    1.1180    0.8880           5    0.0435\n",
      "     H   -0.4050    1.1180   -0.8880           5    0.0435\n",
      "CPU times: user 16.3 s, sys: 205 ms, total: 16.5 s\n",
      "Wall time: 17.9 s\n"
     ]
    },
    {
     "output_type": "execute_result",
     "data": {
      "text/plain": [
       "(<respyte.objective.respyte_objective at 0xa25659f90>,\n",
       " [['mol: meoh, model: point_charge',\n",
       "   'RRMS:    0.1582',\n",
       "   '  elem         x         y         z  equiv(chg)    charge',\n",
       "   '     O    0.0410   -0.7640    0.0000           2   -0.6345',\n",
       "   '     H   -0.8550   -1.0640    0.0000           0    0.4066',\n",
       "   '     C    0.0410    0.6610    0.0000           3    0.0974',\n",
       "   '     H    1.0870    0.9800    0.0000           1    0.0435',\n",
       "   '     H   -0.4050    1.1180    0.8880           1    0.0435',\n",
       "   '     H   -0.4050    1.1180   -0.8880           1    0.0435'],\n",
       "  ['mol: meoh2, model: point_charge',\n",
       "   'RRMS:    0.1582',\n",
       "   '  elem         x         y         z  equiv(chg)    charge',\n",
       "   '     O    0.0410   -0.7640    0.0000           6   -0.6345',\n",
       "   '     H   -0.8550   -1.0640    0.0000           4    0.4066',\n",
       "   '     C    0.0410    0.6610    0.0000           7    0.0974',\n",
       "   '     H    1.0870    0.9800    0.0000           5    0.0435',\n",
       "   '     H   -0.4050    1.1180    0.8880           5    0.0435',\n",
       "   '     H   -0.4050    1.1180   -0.8880           5    0.0435']],\n",
       " [0.15819935144414624, 0.15819935144414526])"
      ]
     },
     "metadata": {},
     "execution_count": 5
    }
   ],
   "source": [
    "%%time\n",
    "print('example 2. analytic solution of single-stg-fit to EF(electric field)\\n')\n",
    "parameter_types = {'charge': 'connectivity'}\n",
    "model_type='point_charge'\n",
    "penalty =  {'ptype': 'L1', 'a': 0.001, 'b': 0.1}\n",
    "targets = [{'type': 'ef',  'weight': 1.0}] \n",
    "resp(molecules, model_type, parameter_types, targets=targets, penalty=penalty, procedure=1)"
   ]
  },
  {
   "cell_type": "code",
   "execution_count": 6,
   "metadata": {},
   "outputs": [
    {
     "output_type": "stream",
     "name": "stdout",
     "text": [
      "example 3. analytic solution of single-stg-fit to ESP and EF\n",
      "\n",
      "\u001b[1mRunning single-stage fit\u001b[0m\n",
      " Iter 0. norm(dq): 1.70e+00 X2: 1.60e-01\n",
      " Iter 1. norm(dq): 6.95e-02 X2: 6.07e-03\n",
      " Iter 2. norm(dq): 5.44e-03 X2: 5.97e-03\n",
      " Iter 3. norm(dq): 3.94e-05 X2: 5.97e-03\n",
      "\u001b[1m Converged!\u001b[0m\n",
      "mol: meoh, model: point_charge\n",
      "RRMS:    0.1488\n",
      "  elem         x         y         z  equiv(chg)    charge\n",
      "     O    0.0410   -0.7640    0.0000           2   -0.6033\n",
      "     H   -0.8550   -1.0640    0.0000           0    0.3910\n",
      "     C    0.0410    0.6610    0.0000           3    0.0710\n",
      "     H    1.0870    0.9800    0.0000           1    0.0471\n",
      "     H   -0.4050    1.1180    0.8880           1    0.0471\n",
      "     H   -0.4050    1.1180   -0.8880           1    0.0471\n",
      "mol: meoh2, model: point_charge\n",
      "RRMS:    0.1488\n",
      "  elem         x         y         z  equiv(chg)    charge\n",
      "     O    0.0410   -0.7640    0.0000           6   -0.6033\n",
      "     H   -0.8550   -1.0640    0.0000           4    0.3910\n",
      "     C    0.0410    0.6610    0.0000           7    0.0710\n",
      "     H    1.0870    0.9800    0.0000           5    0.0471\n",
      "     H   -0.4050    1.1180    0.8880           5    0.0471\n",
      "     H   -0.4050    1.1180   -0.8880           5    0.0471\n",
      "CPU times: user 13.5 s, sys: 126 ms, total: 13.7 s\n",
      "Wall time: 14.2 s\n"
     ]
    },
    {
     "output_type": "execute_result",
     "data": {
      "text/plain": [
       "(<respyte.objective.respyte_objective at 0xa2567bbd0>,\n",
       " [['mol: meoh, model: point_charge',\n",
       "   'RRMS:    0.1488',\n",
       "   '  elem         x         y         z  equiv(chg)    charge',\n",
       "   '     O    0.0410   -0.7640    0.0000           2   -0.6033',\n",
       "   '     H   -0.8550   -1.0640    0.0000           0    0.3910',\n",
       "   '     C    0.0410    0.6610    0.0000           3    0.0710',\n",
       "   '     H    1.0870    0.9800    0.0000           1    0.0471',\n",
       "   '     H   -0.4050    1.1180    0.8880           1    0.0471',\n",
       "   '     H   -0.4050    1.1180   -0.8880           1    0.0471'],\n",
       "  ['mol: meoh2, model: point_charge',\n",
       "   'RRMS:    0.1488',\n",
       "   '  elem         x         y         z  equiv(chg)    charge',\n",
       "   '     O    0.0410   -0.7640    0.0000           6   -0.6033',\n",
       "   '     H   -0.8550   -1.0640    0.0000           4    0.3910',\n",
       "   '     C    0.0410    0.6610    0.0000           7    0.0710',\n",
       "   '     H    1.0870    0.9800    0.0000           5    0.0471',\n",
       "   '     H   -0.4050    1.1180    0.8880           5    0.0471',\n",
       "   '     H   -0.4050    1.1180   -0.8880           5    0.0471']],\n",
       " [0.14878499345170723, 0.14878499345170773])"
      ]
     },
     "metadata": {},
     "execution_count": 6
    }
   ],
   "source": [
    "%%time\n",
    "print('example 3. analytic solution of single-stg-fit to ESP and EF\\n')\n",
    "parameter_types = {'charge': 'connectivity'}\n",
    "model_type='point_charge'\n",
    "penalty =  {'ptype': 'L1', 'a': 0.001, 'b': 0.1}\n",
    "targets = [{'type': 'esp',  'weight': 0.5}, {'type': 'ef',  'weight': 0.5}] \n",
    "resp(molecules, model_type, parameter_types, targets=targets, penalty=penalty, procedure=1)"
   ]
  },
  {
   "cell_type": "code",
   "execution_count": 7,
   "metadata": {
    "tags": []
   },
   "outputs": [
    {
     "output_type": "stream",
     "name": "stdout",
     "text": [
      "example 4. analytic solution  of two-stg-fit to ESP\n",
      "\n",
      "\n",
      "\u001b[1mRunning two-stage fit\u001b[0m\n",
      "1st stage: \n",
      " Iter 0. norm(dq): 1.73e+00 X2: 2.37e-01\n",
      " Iter 1. norm(dq): 1.01e-01 X2: 4.15e-03\n",
      " Iter 2. norm(dq): 1.23e-02 X2: 4.00e-03\n",
      " Iter 3. norm(dq): 1.09e-04 X2: 4.00e-03\n",
      "\u001b[1m Converged!\u001b[0m\n",
      "mol: meoh, model: point_charge\n",
      "RRMS:    0.1080\n",
      "  elem         x         y         z  equiv(chg)    charge\n",
      "     O    0.0410   -0.7640    0.0000           2   -0.6500\n",
      "     H   -0.8550   -1.0640    0.0000           0    0.4217\n",
      "     C    0.0410    0.6610    0.0000           3    0.1252\n",
      "     H    1.0870    0.9800    0.0000           4    0.0727\n",
      "     H   -0.4050    1.1180    0.8880           5    0.0152\n",
      "     H   -0.4050    1.1180   -0.8880           6    0.0153\n",
      "mol: meoh2, model: point_charge\n",
      "RRMS:    0.1080\n",
      "  elem         x         y         z  equiv(chg)    charge\n",
      "     O    0.0410   -0.7640    0.0000           9   -0.6500\n",
      "     H   -0.8550   -1.0640    0.0000           7    0.4217\n",
      "     C    0.0410    0.6610    0.0000          10    0.1252\n",
      "     H    1.0870    0.9800    0.0000          11    0.0727\n",
      "     H   -0.4050    1.1180    0.8880          12    0.0152\n",
      "     H   -0.4050    1.1180   -0.8880          13    0.0153\n",
      "\n",
      "2nd stage: \n",
      " Iter 0. norm(dq): 2.67e+00 X2: 6.94e-01\n",
      " Iter 1. norm(dq): 2.13e-02 X2: 9.09e-03\n",
      " Iter 2. norm(dq): 8.79e-06 X2: 9.09e-03\n",
      "\u001b[1m Converged!\u001b[0m\n",
      "mol: meoh, model: point_charge\n",
      "RRMS:    0.1674\n",
      "  elem         x         y         z  equiv(chg)    charge\n",
      "     O    0.0410   -0.7640    0.0000           2   -0.6500\n",
      "     H   -0.8550   -1.0640    0.0000           0    0.4217\n",
      "     C    0.0410    0.6610    0.0000           3    0.1167\n",
      "     H    1.0870    0.9800    0.0000           1    0.0372\n",
      "     H   -0.4050    1.1180    0.8880           1    0.0372\n",
      "     H   -0.4050    1.1180   -0.8880           1    0.0372\n",
      "mol: meoh2, model: point_charge\n",
      "RRMS:    0.1674\n",
      "  elem         x         y         z  equiv(chg)    charge\n",
      "     O    0.0410   -0.7640    0.0000           6   -0.6500\n",
      "     H   -0.8550   -1.0640    0.0000           4    0.4217\n",
      "     C    0.0410    0.6610    0.0000           7    0.1167\n",
      "     H    1.0870    0.9800    0.0000           5    0.0372\n",
      "     H   -0.4050    1.1180    0.8880           5    0.0372\n",
      "     H   -0.4050    1.1180   -0.8880           5    0.0372\n",
      "CPU times: user 2.18 s, sys: 44 ms, total: 2.22 s\n",
      "Wall time: 2.34 s\n"
     ]
    },
    {
     "output_type": "execute_result",
     "data": {
      "text/plain": [
       "(<respyte.objective.respyte_objective at 0xa25612c50>,\n",
       " [['mol: meoh, model: point_charge',\n",
       "   'RRMS:    0.1674',\n",
       "   '  elem         x         y         z  equiv(chg)    charge',\n",
       "   '     O    0.0410   -0.7640    0.0000           2   -0.6500',\n",
       "   '     H   -0.8550   -1.0640    0.0000           0    0.4217',\n",
       "   '     C    0.0410    0.6610    0.0000           3    0.1167',\n",
       "   '     H    1.0870    0.9800    0.0000           1    0.0372',\n",
       "   '     H   -0.4050    1.1180    0.8880           1    0.0372',\n",
       "   '     H   -0.4050    1.1180   -0.8880           1    0.0372'],\n",
       "  ['mol: meoh2, model: point_charge',\n",
       "   'RRMS:    0.1674',\n",
       "   '  elem         x         y         z  equiv(chg)    charge',\n",
       "   '     O    0.0410   -0.7640    0.0000           6   -0.6500',\n",
       "   '     H   -0.8550   -1.0640    0.0000           4    0.4217',\n",
       "   '     C    0.0410    0.6610    0.0000           7    0.1167',\n",
       "   '     H    1.0870    0.9800    0.0000           5    0.0372',\n",
       "   '     H   -0.4050    1.1180    0.8880           5    0.0372',\n",
       "   '     H   -0.4050    1.1180   -0.8880           5    0.0372']],\n",
       " [0.16736817552930944, 0.16736817552930947])"
      ]
     },
     "metadata": {},
     "execution_count": 7
    }
   ],
   "source": [
    "%%time\n",
    "print('example 4. analytic solution  of two-stg-fit to ESP\\n')\n",
    "parameter_types = {'charge': 'connectivity'}\n",
    "model_type='point_charge'\n",
    "penalty =  {'ptype': 'L1', 'a': 0.001, 'b': 0.1}\n",
    "resp(molecules, model_type, parameter_types, penalty=penalty, procedure=2)"
   ]
  },
  {
   "cell_type": "code",
   "execution_count": 8,
   "metadata": {
    "tags": []
   },
   "outputs": [
    {
     "output_type": "stream",
     "name": "stdout",
     "text": [
      "example 5. numerical  solution of fuzzy charge single-stg-fit to ESP\n",
      "\n",
      "\n",
      "\u001b[1mRunning two-stage fit\u001b[0m\n",
      "1st stage: \n",
      " Iter 0. norm(dq): 1.74e+00 X2: 2.37e-01\n",
      " Iter 1. norm(dq): 1.02e-01 X2: 4.15e-03\n",
      " Iter 2. norm(dq): 1.26e-02 X2: 4.01e-03\n",
      " Iter 3. norm(dq): 1.16e-04 X2: 4.01e-03\n",
      "\u001b[1m Converged!\u001b[0m\n",
      "mol: meoh, model: fuzzy_charge\n",
      "RRMS:    0.1081\n",
      "  elem         x         y         z  equiv(chg)    charge     alpha\n",
      "     O    0.0410   -0.7640    0.0000           2   -0.6508    1.9737\n",
      "     H   -0.8550   -1.0640    0.0000           0    0.4221    2.5000\n",
      "     C    0.0410    0.6610    0.0000           3    0.1253    1.7647\n",
      "     H    1.0870    0.9800    0.0000           4    0.0729    2.5000\n",
      "     H   -0.4050    1.1180    0.8880           5    0.0152    2.5000\n",
      "     H   -0.4050    1.1180   -0.8880           6    0.0153    2.5000\n",
      "mol: meoh2, model: fuzzy_charge\n",
      "RRMS:    0.1081\n",
      "  elem         x         y         z  equiv(chg)    charge     alpha\n",
      "     O    0.0410   -0.7640    0.0000           9   -0.6508    1.9737\n",
      "     H   -0.8550   -1.0640    0.0000           7    0.4221    2.5000\n",
      "     C    0.0410    0.6610    0.0000          10    0.1253    1.7647\n",
      "     H    1.0870    0.9800    0.0000          11    0.0729    2.5000\n",
      "     H   -0.4050    1.1180    0.8880          12    0.0152    2.5000\n",
      "     H   -0.4050    1.1180   -0.8880          13    0.0153    2.5000\n",
      "\n",
      "2nd stage: \n",
      " Iter 0. norm(dq): 2.67e+00 X2: 6.95e-01\n",
      " Iter 1. norm(dq): 2.14e-02 X2: 9.12e-03\n",
      " Iter 2. norm(dq): 8.82e-06 X2: 9.12e-03\n",
      "\u001b[1m Converged!\u001b[0m\n",
      "mol: meoh, model: fuzzy_charge\n",
      "RRMS:    0.1677\n",
      "  elem         x         y         z  equiv(chg)    charge     alpha\n",
      "     O    0.0410   -0.7640    0.0000           2   -0.6508    1.9736\n",
      "     H   -0.8550   -1.0640    0.0000           0    0.4221    2.5000\n",
      "     C    0.0410    0.6610    0.0000           3    0.1168    1.7647\n",
      "     H    1.0870    0.9800    0.0000           1    0.0373    2.5000\n",
      "     H   -0.4050    1.1180    0.8880           1    0.0373    2.5000\n",
      "     H   -0.4050    1.1180   -0.8880           1    0.0373    2.5000\n",
      "mol: meoh2, model: fuzzy_charge\n",
      "RRMS:    0.1677\n",
      "  elem         x         y         z  equiv(chg)    charge     alpha\n",
      "     O    0.0410   -0.7640    0.0000           6   -0.6508    1.9736\n",
      "     H   -0.8550   -1.0640    0.0000           4    0.4221    2.5000\n",
      "     C    0.0410    0.6610    0.0000           7    0.1168    1.7647\n",
      "     H    1.0870    0.9800    0.0000           5    0.0373    2.5000\n",
      "     H   -0.4050    1.1180    0.8880           5    0.0373    2.5000\n",
      "     H   -0.4050    1.1180   -0.8880           5    0.0373    2.5000\n",
      "CPU times: user 40.6 s, sys: 396 ms, total: 41 s\n",
      "Wall time: 48.5 s\n"
     ]
    },
    {
     "output_type": "execute_result",
     "data": {
      "text/plain": [
       "(<respyte.objective.respyte_objective at 0xa25652790>,\n",
       " [['mol: meoh, model: fuzzy_charge',\n",
       "   'RRMS:    0.1677',\n",
       "   '  elem         x         y         z  equiv(chg)    charge     alpha',\n",
       "   '     O    0.0410   -0.7640    0.0000           2   -0.6508    1.9736',\n",
       "   '     H   -0.8550   -1.0640    0.0000           0    0.4221    2.5000',\n",
       "   '     C    0.0410    0.6610    0.0000           3    0.1168    1.7647',\n",
       "   '     H    1.0870    0.9800    0.0000           1    0.0373    2.5000',\n",
       "   '     H   -0.4050    1.1180    0.8880           1    0.0373    2.5000',\n",
       "   '     H   -0.4050    1.1180   -0.8880           1    0.0373    2.5000'],\n",
       "  ['mol: meoh2, model: fuzzy_charge',\n",
       "   'RRMS:    0.1677',\n",
       "   '  elem         x         y         z  equiv(chg)    charge     alpha',\n",
       "   '     O    0.0410   -0.7640    0.0000           6   -0.6508    1.9736',\n",
       "   '     H   -0.8550   -1.0640    0.0000           4    0.4221    2.5000',\n",
       "   '     C    0.0410    0.6610    0.0000           7    0.1168    1.7647',\n",
       "   '     H    1.0870    0.9800    0.0000           5    0.0373    2.5000',\n",
       "   '     H   -0.4050    1.1180    0.8880           5    0.0373    2.5000',\n",
       "   '     H   -0.4050    1.1180   -0.8880           5    0.0373    2.5000']],\n",
       " [0.1677217182403197, 0.16772171824030668])"
      ]
     },
     "metadata": {},
     "execution_count": 8
    }
   ],
   "source": [
    "%%time\n",
    "print('example 5. analytic  solution of fuzzy charge single-stg-fit to ESP\\n')\n",
    "parameter_types = {'charge': 'connectivity', 'alpha': 'symbol'}\n",
    "model_type='fuzzy_charge' # switch to 'fuzzy_charge_numerical' if you want to use numerical solution instead\n",
    "q_core_type = 'n_outer_elecs'\n",
    "alpha0 = 3\n",
    "penalty =  {'ptype': 'L1', 'a': 0.001, 'b': 0.1, 'c':0.1}\n",
    "resp(molecules, model_type, parameter_types, q_core_type=q_core_type, alpha0=alpha0, penalty=penalty, procedure=2)"
   ]
  },
  {
   "cell_type": "code",
   "execution_count": null,
   "metadata": {},
   "outputs": [],
   "source": []
  }
 ]
}