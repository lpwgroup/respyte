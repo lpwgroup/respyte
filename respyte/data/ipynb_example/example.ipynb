{
 "metadata": {
  "language_info": {
   "codemirror_mode": {
    "name": "ipython",
    "version": 3
   },
   "file_extension": ".py",
   "mimetype": "text/x-python",
   "name": "python",
   "nbconvert_exporter": "python",
   "pygments_lexer": "ipython3",
   "version": "3.7.9-final"
  },
  "orig_nbformat": 2,
  "kernelspec": {
   "name": "Python 3.7.9 64-bit ('respyte-beta': conda)",
   "display_name": "Python 3.7.9 64-bit ('respyte-beta': conda)",
   "metadata": {
    "interpreter": {
     "hash": "7bb323ce5454dd965c0fd9149b3cdd1d10db076fbe0b425a1434c990872e9fb4"
    }
   }
  }
 },
 "nbformat": 4,
 "nbformat_minor": 2,
 "cells": [
  {
   "cell_type": "markdown",
   "metadata": {},
   "source": [
    "example of how to  use respyte as a python module!"
   ]
  },
  {
   "cell_type": "code",
   "execution_count": 1,
   "metadata": {},
   "outputs": [],
   "source": [
    "from respyte.molecules import *\n",
    "from respyte.objective import *\n",
    "from respyte.optimizer import *\n",
    "from respyte.procedure import *"
   ]
  },
  {
   "cell_type": "code",
   "execution_count": 2,
   "metadata": {},
   "outputs": [],
   "source": [
    "# generate molecule object\n",
    "molecule = respyte_molecule(molecule_name= 'meoh', coord_fnm='test.pdb', espf_fnm='test.espf')\n",
    "molecule.set_net_charge(0)\n",
    "molecule2 = respyte_molecule(molecule_name= 'meoh2', coord_fnm='test.pdb', espf_fnm='test.espf')\n",
    "molecule2.set_net_charge(0)"
   ]
  },
  {
   "cell_type": "code",
   "execution_count": 3,
   "metadata": {
    "tags": []
   },
   "outputs": [],
   "source": [
    "molecules = respyte_molecules()\n",
    "molecules.add_molecule(molecule)\n",
    "molecules.add_molecule(molecule2)"
   ]
  },
  {
   "cell_type": "code",
   "execution_count": 4,
   "metadata": {
    "tags": []
   },
   "outputs": [
    {
     "output_type": "stream",
     "name": "stdout",
     "text": "example 1. analytic solution of single-stg-fit\n\n\u001b[1mRunning single-stage fit\u001b[0m\n Iter 0. norm(dq): 1.69e+00\n Iter 1. norm(dq): 6.12e-02\n Iter 2. norm(dq): 3.31e-03\n Iter 3. norm(dq): 1.43e-05\n\u001b[1m Converged!\u001b[0m\natomid  molecule  atomname   resname           model  vartype value   \n     0      meoh        H2       MOL    point_charge        q   0.3862\n     1      meoh        H4       MOL    point_charge        q   0.0505\n     2      meoh        O1       MOL    point_charge        q  -0.5923\n     3      meoh        C3       MOL    point_charge        q   0.0547\n     4     meoh2        H2       MOL    point_charge        q   0.3862\n     5     meoh2        H4       MOL    point_charge        q   0.0505\n     6     meoh2        O1       MOL    point_charge        q  -0.5923\n     7     meoh2        C3       MOL    point_charge        q   0.0547\n    l0      None      None      None    point_charge   lambda   0.0247\n    l1      None      None      None    point_charge   lambda   0.0247\nCPU times: user 757 ms, sys: 17.9 ms, total: 775 ms\nWall time: 796 ms\n"
    },
    {
     "output_type": "execute_result",
     "data": {
      "text/plain": "<respyte.objective.respyte_objective at 0xa2310dbd0>"
     },
     "metadata": {},
     "execution_count": 4
    }
   ],
   "source": [
    "%%time\n",
    "print('example 1. analytic solution of single-stg-fit\\n')\n",
    "penalty =  {'type': 'L1', 'a': 0.001, 'b': 0.1}\n",
    "resp(molecules, symmetry='all', model='point_charge', penalty=penalty, procedure=1)"
   ]
  },
  {
   "cell_type": "code",
   "execution_count": 5,
   "metadata": {
    "tags": []
   },
   "outputs": [
    {
     "output_type": "stream",
     "name": "stdout",
     "text": "example 2. numerical  solution of single-stg-fit\n\n\u001b[1mRunning single-stage fit\u001b[0m\n Iter 0. norm(dq): 1.69e+00\n Iter 1. norm(dq): 6.12e-02\n Iter 2. norm(dq): 3.31e-03\n Iter 3. norm(dq): 1.43e-05\n\u001b[1m Converged!\u001b[0m\natomid  molecule  atomname   resname           model  vartype value   \n     0      meoh        H2       MOL point_charge_numerical        q   0.3862\n     1      meoh        H4       MOL point_charge_numerical        q   0.0505\n     2      meoh        O1       MOL point_charge_numerical        q  -0.5923\n     3      meoh        C3       MOL point_charge_numerical        q   0.0547\n     4     meoh2        H2       MOL point_charge_numerical        q   0.3862\n     5     meoh2        H4       MOL point_charge_numerical        q   0.0505\n     6     meoh2        O1       MOL point_charge_numerical        q  -0.5923\n     7     meoh2        C3       MOL point_charge_numerical        q   0.0547\n    l0      None      None      None point_charge_numerical   lambda   0.0247\n    l1      None      None      None point_charge_numerical   lambda   0.0247\nCPU times: user 7.27 s, sys: 112 ms, total: 7.39 s\nWall time: 7.52 s\n"
    },
    {
     "output_type": "execute_result",
     "data": {
      "text/plain": "<respyte.objective.respyte_objective at 0xa2312be10>"
     },
     "metadata": {},
     "execution_count": 5
    }
   ],
   "source": [
    "%%time\n",
    "print('example 2. numerical  solution of single-stg-fit\\n')\n",
    "penalty =  {'type': 'L1', 'a': 0.001, 'b': 0.1}\n",
    "resp(molecules, symmetry='all', model='point_charge_numerical', penalty=penalty, procedure=1)"
   ]
  },
  {
   "cell_type": "code",
   "execution_count": 6,
   "metadata": {
    "tags": []
   },
   "outputs": [
    {
     "output_type": "stream",
     "name": "stdout",
     "text": "example 3. analytic solution  of two-stg-fit\n\n\n\u001b[1mRunning two-stage fit\u001b[0m\n1st stage: \n Iter 0. norm(dq): 1.73e+00\n Iter 1. norm(dq): 1.01e-01\n Iter 2. norm(dq): 1.23e-02\n Iter 3. norm(dq): 1.09e-04\n\u001b[1m Converged!\u001b[0m\natomid  molecule  atomname   resname           model  vartype value   \n     0      meoh        H2       MOL    point_charge        q   0.4217\n     2      meoh        O1       MOL    point_charge        q  -0.6500\n     3      meoh        C3       MOL    point_charge        q   0.1252\n     4      meoh        H4       MOL    point_charge        q   0.0727\n     5      meoh        H5       MOL    point_charge        q   0.0152\n     6      meoh        H6       MOL    point_charge        q   0.0153\n     7     meoh2        H2       MOL    point_charge        q   0.4217\n     9     meoh2        O1       MOL    point_charge        q  -0.6500\n    10     meoh2        C3       MOL    point_charge        q   0.1252\n    11     meoh2        H4       MOL    point_charge        q   0.0727\n    12     meoh2        H5       MOL    point_charge        q   0.0152\n    13     meoh2        H6       MOL    point_charge        q   0.0153\n    l0      None      None      None    point_charge   lambda   0.0264\n    l1      None      None      None    point_charge   lambda   0.0264\n\n2nd stage: \n Iter 0. norm(dq): 2.67e+00\n Iter 1. norm(dq): 2.13e-02\n Iter 2. norm(dq): 8.79e-06\n\u001b[1m Converged!\u001b[0m\natomid  molecule  atomname   resname           model  vartype value   \n     0      meoh        H2       MOL    point_charge        q   0.4217\n     1      meoh        H4       MOL    point_charge        q   0.0372\n     2      meoh        O1       MOL    point_charge        q  -0.6500\n     3      meoh        C3       MOL    point_charge        q   0.1167\n     4     meoh2        H2       MOL    point_charge        q   0.4217\n     5     meoh2        H4       MOL    point_charge        q   0.0372\n     6     meoh2        O1       MOL    point_charge        q  -0.6500\n     7     meoh2        C3       MOL    point_charge        q   0.1167\n    l0      None      None      None    point_charge   lambda   0.0286\n    l1      None      None      None    point_charge   lambda   0.0286\n    l2      None      None      None    point_charge   lambda  -0.0261\n    l3      None      None      None    point_charge   lambda   0.0133\n    l4      None      None      None    point_charge   lambda  -0.0261\n    l5      None      None      None    point_charge   lambda   0.0133\nCPU times: user 1.32 s, sys: 36.3 ms, total: 1.35 s\nWall time: 1.37 s\n"
    },
    {
     "output_type": "execute_result",
     "data": {
      "text/plain": "<respyte.objective.respyte_objective at 0xa23382a10>"
     },
     "metadata": {},
     "execution_count": 6
    }
   ],
   "source": [
    "%%time\n",
    "print('example 3. analytic solution  of two-stg-fit\\n')\n",
    "penalty =  {'type': 'L1', 'a': 0.001, 'b': 0.1}\n",
    "resp(molecules, symmetry='all', model='point_charge', penalty=penalty, procedure=2)"
   ]
  },
  {
   "cell_type": "code",
   "execution_count": 7,
   "metadata": {
    "tags": []
   },
   "outputs": [
    {
     "output_type": "stream",
     "name": "stdout",
     "text": "example 4. numerica solution  of two-stg-fit\n\n\n\u001b[1mRunning two-stage fit\u001b[0m\n1st stage: \n Iter 0. norm(dq): 1.73e+00\n Iter 1. norm(dq): 1.01e-01\n Iter 2. norm(dq): 1.23e-02\n Iter 3. norm(dq): 1.09e-04\n\u001b[1m Converged!\u001b[0m\natomid  molecule  atomname   resname           model  vartype value   \n     0      meoh        H2       MOL point_charge_numerical        q   0.4217\n     2      meoh        O1       MOL point_charge_numerical        q  -0.6500\n     3      meoh        C3       MOL point_charge_numerical        q   0.1252\n     4      meoh        H4       MOL point_charge_numerical        q   0.0727\n     5      meoh        H5       MOL point_charge_numerical        q   0.0152\n     6      meoh        H6       MOL point_charge_numerical        q   0.0153\n     7     meoh2        H2       MOL point_charge_numerical        q   0.4217\n     9     meoh2        O1       MOL point_charge_numerical        q  -0.6500\n    10     meoh2        C3       MOL point_charge_numerical        q   0.1252\n    11     meoh2        H4       MOL point_charge_numerical        q   0.0727\n    12     meoh2        H5       MOL point_charge_numerical        q   0.0152\n    13     meoh2        H6       MOL point_charge_numerical        q   0.0153\n    l0      None      None      None point_charge_numerical   lambda   0.0264\n    l1      None      None      None point_charge_numerical   lambda   0.0264\n\n2nd stage: \n Iter 0. norm(dq): 2.67e+00\n Iter 1. norm(dq): 2.13e-02\n Iter 2. norm(dq): 8.79e-06\n\u001b[1m Converged!\u001b[0m\natomid  molecule  atomname   resname           model  vartype value   \n     0      meoh        H2       MOL point_charge_numerical        q   0.4217\n     1      meoh        H4       MOL point_charge_numerical        q   0.0372\n     2      meoh        O1       MOL point_charge_numerical        q  -0.6500\n     3      meoh        C3       MOL point_charge_numerical        q   0.1167\n     4     meoh2        H2       MOL point_charge_numerical        q   0.4217\n     5     meoh2        H4       MOL point_charge_numerical        q   0.0372\n     6     meoh2        O1       MOL point_charge_numerical        q  -0.6500\n     7     meoh2        C3       MOL point_charge_numerical        q   0.1167\n    l0      None      None      None point_charge_numerical   lambda   0.0286\n    l1      None      None      None point_charge_numerical   lambda   0.0286\n    l2      None      None      None point_charge_numerical   lambda  -0.0261\n    l3      None      None      None point_charge_numerical   lambda   0.0133\n    l4      None      None      None point_charge_numerical   lambda  -0.0261\n    l5      None      None      None point_charge_numerical   lambda   0.0133\nCPU times: user 18 s, sys: 276 ms, total: 18.2 s\nWall time: 18.5 s\n"
    },
    {
     "output_type": "execute_result",
     "data": {
      "text/plain": "<respyte.objective.respyte_objective at 0xa23590210>"
     },
     "metadata": {},
     "execution_count": 7
    }
   ],
   "source": [
    "%%time\n",
    "print('example 4. numerica solution  of two-stg-fit\\n')\n",
    "penalty =  {'type': 'L1', 'a': 0.001, 'b': 0.1}\n",
    "resp(molecules, symmetry='all', model='point_charge_numerical', penalty=penalty, procedure=2)"
   ]
  },
  {
   "cell_type": "code",
   "execution_count": 8,
   "metadata": {
    "tags": []
   },
   "outputs": [
    {
     "output_type": "stream",
     "name": "stdout",
     "text": "example 5. numerical  solution of fuzzy charge single-stg-fit\n\n\u001b[1mRunning single-stage fit\u001b[0m\n Iter 0. norm(dq): 1.75e+00\n Iter 1. norm(dq): 7.63e-02\n Iter 2. norm(dq): 1.09e-03\n Iter 3. norm(dq): 1.52e-05\n Iter 4. norm(dq): 1.90e-07\n\u001b[1m Converged!\u001b[0m\natomid  molecule  atomname   resname           model  vartype value   \n     0      meoh        H2       MOL    fuzzy_charge        q   0.3981\n     0      meoh        H2       MOL    fuzzy_charge    alpha   1.3244\n     1      meoh        H4       MOL    fuzzy_charge        q   0.0580\n     1      meoh        H4       MOL    fuzzy_charge    alpha   1.3229\n     2      meoh        O1       MOL    fuzzy_charge        q  -0.6092\n     2      meoh        O1       MOL    fuzzy_charge    alpha   1.0503\n     3      meoh        C3       MOL    fuzzy_charge        q   0.0370\n     3      meoh        C3       MOL    fuzzy_charge    alpha   0.9337\n     4     meoh2        H2       MOL    fuzzy_charge        q   0.3981\n     4     meoh2        H2       MOL    fuzzy_charge    alpha   1.3244\n     5     meoh2        H4       MOL    fuzzy_charge        q   0.0580\n     5     meoh2        H4       MOL    fuzzy_charge    alpha   1.3229\n     6     meoh2        O1       MOL    fuzzy_charge        q  -0.6092\n     6     meoh2        O1       MOL    fuzzy_charge    alpha   1.0503\n     7     meoh2        C3       MOL    fuzzy_charge        q   0.0370\n     7     meoh2        C3       MOL    fuzzy_charge    alpha   0.9337\n    l0      None      None      None    fuzzy_charge   lambda  -0.0107\n    l1      None      None      None    fuzzy_charge   lambda  -0.0107\nCPU times: user 19 s, sys: 208 ms, total: 19.2 s\nWall time: 19.4 s\n"
    },
    {
     "output_type": "execute_result",
     "data": {
      "text/plain": "<respyte.objective.respyte_objective at 0xa232d9d50>"
     },
     "metadata": {},
     "execution_count": 8
    }
   ],
   "source": [
    "%%time\n",
    "print('example 5. numerical  solution of fuzzy charge single-stg-fit\\n')\n",
    "penalty =  {'type': 'L1', 'a': 0.001, 'b': 0.1, 'c': 0.1}\n",
    "resp(molecules, symmetry='all', model='fuzzy_charge', penalty=penalty, procedure=1)"
   ]
  }
 ]
}