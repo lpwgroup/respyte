{
 "metadata": {
  "language_info": {
   "codemirror_mode": {
    "name": "ipython",
    "version": 3
   },
   "file_extension": ".py",
   "mimetype": "text/x-python",
   "name": "python",
   "nbconvert_exporter": "python",
   "pygments_lexer": "ipython3",
   "version": "3.7.9-final"
  },
  "orig_nbformat": 2,
  "kernelspec": {
   "name": "Python 3.7.9 64-bit ('respyte-beta': conda)",
   "display_name": "Python 3.7.9 64-bit ('respyte-beta': conda)",
   "metadata": {
    "interpreter": {
     "hash": "7bb323ce5454dd965c0fd9149b3cdd1d10db076fbe0b425a1434c990872e9fb4"
    }
   }
  }
 },
 "nbformat": 4,
 "nbformat_minor": 2,
 "cells": [
  {
   "cell_type": "markdown",
   "metadata": {},
   "source": [
    "example of how to  use respyte as a python module!"
   ]
  },
  {
   "cell_type": "code",
   "execution_count": 1,
   "metadata": {},
   "outputs": [],
   "source": [
    "from respyte.molecules import *\n",
    "from respyte.objective import *\n",
    "from respyte.optimizer import *\n",
    "from respyte.procedure import *"
   ]
  },
  {
   "cell_type": "code",
   "execution_count": 2,
   "metadata": {},
   "outputs": [],
   "source": [
    "# generate molecule object\n",
    "molecule = respyte_molecule(molecule_name= 'meoh', coord_fnm='test.pdb', espf_fnm='test.espf')\n",
    "molecule.set_net_charge(0)\n",
    "molecule2 = respyte_molecule(molecule_name= 'meoh2', coord_fnm='test.pdb', espf_fnm='test.espf')\n",
    "molecule2.set_net_charge(0)"
   ]
  },
  {
   "cell_type": "code",
   "execution_count": 3,
   "metadata": {
    "tags": []
   },
   "outputs": [],
   "source": [
    "molecules = respyte_molecules()\n",
    "molecules.add_molecule(molecule)\n",
    "molecules.add_molecule(molecule2)"
   ]
  },
  {
   "cell_type": "code",
   "execution_count": 5,
   "metadata": {
    "tags": []
   },
   "outputs": [
    {
     "output_type": "stream",
     "name": "stdout",
     "text": [
      "example 1. analytic solution of single-stg-fit\n",
      "\n",
      "\u001b[1mRunning single-stage fit\u001b[0m\n",
      " Iter 0. norm(dq): 1.69e+00 X2: 2.37e-01\n",
      " Iter 1. norm(dq): 6.12e-02 X2: 6.35e-03\n",
      " Iter 2. norm(dq): 3.31e-03 X2: 6.27e-03\n",
      " Iter 3. norm(dq): 1.43e-05 X2: 6.27e-03\n",
      "\u001b[1m Converged!\u001b[0m\n",
      "mol: meoh, model: point_charge\n",
      "RRMS:    0.1487\n",
      "  elem         x         y         z  equiv(chg)    charge\n",
      "     O    0.0410   -0.7640    0.0000           2   -0.5923\n",
      "     H   -0.8550   -1.0640    0.0000           0    0.3862\n",
      "     C    0.0410    0.6610    0.0000           3    0.0547\n",
      "     H    1.0870    0.9800    0.0000           1    0.0505\n",
      "     H   -0.4050    1.1180    0.8880           1    0.0505\n",
      "     H   -0.4050    1.1180   -0.8880           1    0.0505\n",
      "mol: meoh2, model: point_charge\n",
      "RRMS:    0.1487\n",
      "  elem         x         y         z  equiv(chg)    charge\n",
      "     O    0.0410   -0.7640    0.0000           6   -0.5923\n",
      "     H   -0.8550   -1.0640    0.0000           4    0.3862\n",
      "     C    0.0410    0.6610    0.0000           7    0.0547\n",
      "     H    1.0870    0.9800    0.0000           5    0.0505\n",
      "     H   -0.4050    1.1180    0.8880           5    0.0505\n",
      "     H   -0.4050    1.1180   -0.8880           5    0.0505\n",
      "CPU times: user 969 ms, sys: 37.8 ms, total: 1.01 s\n",
      "Wall time: 1.01 s\n"
     ]
    },
    {
     "output_type": "execute_result",
     "data": {
      "text/plain": [
       "<respyte.objective.respyte_objective at 0xa2ac9fe90>"
      ]
     },
     "metadata": {},
     "execution_count": 5
    }
   ],
   "source": [
    "%%time\n",
    "print('example 1. analytic solution of single-stg-fit\\n')\n",
    "parameter_types = {'charge': 'connectivity'}\n",
    "model_type='point_charge'\n",
    "penalty =  {'ptype': 'L1', 'a': 0.001, 'b': 0.1}\n",
    "resp(molecules, model_type, parameter_types, penalty=penalty, procedure=1)"
   ]
  },
  {
   "cell_type": "code",
   "execution_count": 6,
   "metadata": {
    "tags": []
   },
   "outputs": [
    {
     "output_type": "stream",
     "name": "stdout",
     "text": [
      "example 2. numerical  solution of single-stg-fit\n",
      "\n",
      "\u001b[1mRunning single-stage fit\u001b[0m\n",
      " Iter 0. norm(dq): 1.69e+00 X2: 2.37e-01\n",
      " Iter 1. norm(dq): 6.12e-02 X2: 6.35e-03\n",
      " Iter 2. norm(dq): 3.31e-03 X2: 6.27e-03\n",
      " Iter 3. norm(dq): 1.43e-05 X2: 6.27e-03\n",
      "\u001b[1m Converged!\u001b[0m\n",
      "mol: meoh, model: point_charge_numerical\n",
      "RRMS:    0.1487\n",
      "  elem         x         y         z  equiv(chg)    charge\n",
      "     O    0.0410   -0.7640    0.0000           2   -0.5923\n",
      "     H   -0.8550   -1.0640    0.0000           0    0.3862\n",
      "     C    0.0410    0.6610    0.0000           3    0.0547\n",
      "     H    1.0870    0.9800    0.0000           1    0.0505\n",
      "     H   -0.4050    1.1180    0.8880           1    0.0505\n",
      "     H   -0.4050    1.1180   -0.8880           1    0.0505\n",
      "mol: meoh2, model: point_charge_numerical\n",
      "RRMS:    0.1487\n",
      "  elem         x         y         z  equiv(chg)    charge\n",
      "     O    0.0410   -0.7640    0.0000           6   -0.5923\n",
      "     H   -0.8550   -1.0640    0.0000           4    0.3862\n",
      "     C    0.0410    0.6610    0.0000           7    0.0547\n",
      "     H    1.0870    0.9800    0.0000           5    0.0505\n",
      "     H   -0.4050    1.1180    0.8880           5    0.0505\n",
      "     H   -0.4050    1.1180   -0.8880           5    0.0505\n",
      "CPU times: user 8.69 s, sys: 104 ms, total: 8.79 s\n",
      "Wall time: 8.9 s\n"
     ]
    },
    {
     "output_type": "execute_result",
     "data": {
      "text/plain": [
       "<respyte.objective.respyte_objective at 0xa292c8310>"
      ]
     },
     "metadata": {},
     "execution_count": 6
    }
   ],
   "source": [
    "%%time\n",
    "print('example 2. numerical  solution of single-stg-fit\\n')\n",
    "parameter_types = {'charge': 'connectivity'}\n",
    "model_type='point_charge_numerical'\n",
    "penalty =  {'ptype': 'L1', 'a': 0.001, 'b': 0.1}\n",
    "resp(molecules, model_type, parameter_types, penalty=penalty, procedure=1)"
   ]
  },
  {
   "cell_type": "code",
   "execution_count": 7,
   "metadata": {
    "tags": []
   },
   "outputs": [
    {
     "output_type": "stream",
     "name": "stdout",
     "text": [
      "example 3. analytic solution  of two-stg-fit\n",
      "\n",
      "\n",
      "\u001b[1mRunning two-stage fit\u001b[0m\n",
      "1st stage: \n",
      " Iter 0. norm(dq): 1.73e+00 X2: 2.37e-01\n",
      " Iter 1. norm(dq): 1.01e-01 X2: 4.15e-03\n",
      " Iter 2. norm(dq): 1.23e-02 X2: 4.00e-03\n",
      " Iter 3. norm(dq): 1.09e-04 X2: 4.00e-03\n",
      "\u001b[1m Converged!\u001b[0m\n",
      "mol: meoh, model: point_charge\n",
      "RRMS:    0.1080\n",
      "  elem         x         y         z  equiv(chg)    charge\n",
      "     O    0.0410   -0.7640    0.0000           2   -0.6500\n",
      "     H   -0.8550   -1.0640    0.0000           0    0.4217\n",
      "     C    0.0410    0.6610    0.0000           3    0.1252\n",
      "     H    1.0870    0.9800    0.0000           4    0.0727\n",
      "     H   -0.4050    1.1180    0.8880           5    0.0152\n",
      "     H   -0.4050    1.1180   -0.8880           6    0.0153\n",
      "mol: meoh2, model: point_charge\n",
      "RRMS:    0.1080\n",
      "  elem         x         y         z  equiv(chg)    charge\n",
      "     O    0.0410   -0.7640    0.0000           9   -0.6500\n",
      "     H   -0.8550   -1.0640    0.0000           7    0.4217\n",
      "     C    0.0410    0.6610    0.0000          10    0.1252\n",
      "     H    1.0870    0.9800    0.0000          11    0.0727\n",
      "     H   -0.4050    1.1180    0.8880          12    0.0152\n",
      "     H   -0.4050    1.1180   -0.8880          13    0.0153\n",
      "\n",
      "2nd stage: \n",
      " Iter 0. norm(dq): 2.67e+00 X2: 6.94e-01\n",
      " Iter 1. norm(dq): 2.13e-02 X2: 9.09e-03\n",
      " Iter 2. norm(dq): 8.79e-06 X2: 9.09e-03\n",
      "\u001b[1m Converged!\u001b[0m\n",
      "mol: meoh, model: point_charge\n",
      "RRMS:    0.1674\n",
      "  elem         x         y         z  equiv(chg)    charge\n",
      "     O    0.0410   -0.7640    0.0000           2   -0.6500\n",
      "     H   -0.8550   -1.0640    0.0000           0    0.4217\n",
      "     C    0.0410    0.6610    0.0000           3    0.1167\n",
      "     H    1.0870    0.9800    0.0000           1    0.0372\n",
      "     H   -0.4050    1.1180    0.8880           1    0.0372\n",
      "     H   -0.4050    1.1180   -0.8880           1    0.0372\n",
      "mol: meoh2, model: point_charge\n",
      "RRMS:    0.1674\n",
      "  elem         x         y         z  equiv(chg)    charge\n",
      "     O    0.0410   -0.7640    0.0000           6   -0.6500\n",
      "     H   -0.8550   -1.0640    0.0000           4    0.4217\n",
      "     C    0.0410    0.6610    0.0000           7    0.1167\n",
      "     H    1.0870    0.9800    0.0000           5    0.0372\n",
      "     H   -0.4050    1.1180    0.8880           5    0.0372\n",
      "     H   -0.4050    1.1180   -0.8880           5    0.0372\n",
      "CPU times: user 1.75 s, sys: 54.3 ms, total: 1.81 s\n",
      "Wall time: 1.82 s\n"
     ]
    },
    {
     "output_type": "execute_result",
     "data": {
      "text/plain": [
       "<respyte.objective.respyte_objective at 0xa2ae33ad0>"
      ]
     },
     "metadata": {},
     "execution_count": 7
    }
   ],
   "source": [
    "%%time\n",
    "print('example 3. analytic solution  of two-stg-fit\\n')\n",
    "parameter_types = {'charge': 'connectivity'}\n",
    "model_type='point_charge'\n",
    "penalty =  {'ptype': 'L1', 'a': 0.001, 'b': 0.1}\n",
    "resp(molecules, model_type, parameter_types, penalty=penalty, procedure=2)"
   ]
  },
  {
   "cell_type": "code",
   "execution_count": 8,
   "metadata": {
    "tags": []
   },
   "outputs": [
    {
     "output_type": "stream",
     "name": "stdout",
     "text": [
      "example 5. numerical  solution of fuzzy charge single-stg-fit\n",
      "\n",
      "\n",
      "\u001b[1mRunning two-stage fit\u001b[0m\n",
      "1st stage: \n",
      " Iter 0. norm(dq): 1.78e+00 X2: 2.41e-01\n",
      " Iter 1. norm(dq): 9.11e-02 X2: 4.27e-03\n",
      " Iter 2. norm(dq): 1.04e-02 X2: 4.14e-03\n",
      " Iter 3. norm(dq): 1.14e-04 X2: 4.14e-03\n",
      " Iter 4. norm(dq): 1.89e-08 X2: 4.14e-03\n",
      "\u001b[1m Converged!\u001b[0m\n",
      "mol: meoh, model: fuzzy_charge\n",
      "RRMS:    0.1114\n",
      "  elem         x         y         z  equiv(chg)    charge     alpha\n",
      "     O    0.0410   -0.7640    0.0000           2   -0.6498    1.9752\n",
      "     H   -0.8550   -1.0640    0.0000           0    0.4259    2.5000\n",
      "     C    0.0410    0.6610    0.0000           3    0.0962    1.7655\n",
      "     H    1.0870    0.9800    0.0000           4    0.0817    2.5000\n",
      "     H   -0.4050    1.1180    0.8880           5    0.0230    2.5000\n",
      "     H   -0.4050    1.1180   -0.8880           6    0.0231    2.5000\n",
      "mol: meoh2, model: fuzzy_charge\n",
      "RRMS:    0.1114\n",
      "  elem         x         y         z  equiv(chg)    charge     alpha\n",
      "     O    0.0410   -0.7640    0.0000           9   -0.6498    1.9752\n",
      "     H   -0.8550   -1.0640    0.0000           7    0.4259    2.5000\n",
      "     C    0.0410    0.6610    0.0000          10    0.0962    1.7655\n",
      "     H    1.0870    0.9800    0.0000          11    0.0817    2.5000\n",
      "     H   -0.4050    1.1180    0.8880          12    0.0230    2.5000\n",
      "     H   -0.4050    1.1180   -0.8880          13    0.0231    2.5000\n",
      "\n",
      "2nd stage: \n",
      " Iter 0. norm(dq): 2.69e+00 X2: 6.89e-01\n",
      " Iter 1. norm(dq): 1.84e-02 X2: 9.35e-03\n",
      " Iter 2. norm(dq): 3.85e-06 X2: 9.35e-03\n",
      "\u001b[1m Converged!\u001b[0m\n",
      "mol: meoh, model: fuzzy_charge\n",
      "RRMS:    0.1716\n",
      "  elem         x         y         z  equiv(chg)    charge     alpha\n",
      "     O    0.0410   -0.7640    0.0000           2   -0.6498    1.9739\n",
      "     H   -0.8550   -1.0640    0.0000           0    0.4259    2.5000\n",
      "     C    0.0410    0.6610    0.0000           3    0.0881    1.7657\n",
      "     H    1.0870    0.9800    0.0000           1    0.0453    2.5000\n",
      "     H   -0.4050    1.1180    0.8880           1    0.0453    2.5000\n",
      "     H   -0.4050    1.1180   -0.8880           1    0.0453    2.5000\n",
      "mol: meoh2, model: fuzzy_charge\n",
      "RRMS:    0.1716\n",
      "  elem         x         y         z  equiv(chg)    charge     alpha\n",
      "     O    0.0410   -0.7640    0.0000           6   -0.6498    1.9739\n",
      "     H   -0.8550   -1.0640    0.0000           4    0.4259    2.5000\n",
      "     C    0.0410    0.6610    0.0000           7    0.0881    1.7657\n",
      "     H    1.0870    0.9800    0.0000           5    0.0453    2.5000\n",
      "     H   -0.4050    1.1180    0.8880           5    0.0453    2.5000\n",
      "     H   -0.4050    1.1180   -0.8880           5    0.0453    2.5000\n",
      "CPU times: user 49.6 s, sys: 610 ms, total: 50.2 s\n",
      "Wall time: 50.9 s\n"
     ]
    },
    {
     "output_type": "execute_result",
     "data": {
      "text/plain": [
       "<respyte.objective.respyte_objective at 0xa2ac9f890>"
      ]
     },
     "metadata": {},
     "execution_count": 8
    }
   ],
   "source": [
    "%%time\n",
    "print('example 5. numerical  solution of fuzzy charge single-stg-fit\\n')\n",
    "parameter_types = {'charge': 'connectivity', 'alpha': 'symbol'}\n",
    "model_type='fuzzy_charge'\n",
    "q_core_type = 'valency'\n",
    "alpha0 = 3\n",
    "penalty =  {'ptype': 'L1', 'a': 0.001, 'b': 0.1, 'c':0.1}\n",
    "resp(molecules, model_type, parameter_types, q_core_type=q_core_type, alpha0=alpha0, penalty=penalty, procedure=2)"
   ]
  },
  {
   "cell_type": "code",
   "execution_count": null,
   "metadata": {},
   "outputs": [],
   "source": []
  }
 ]
}